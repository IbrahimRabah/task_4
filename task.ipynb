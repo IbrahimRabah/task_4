{
 "cells": [
  {
   "cell_type": "code",
   "execution_count": 1,
   "id": "67787b94",
   "metadata": {},
   "outputs": [
    {
     "data": {
      "image/png": "[encoded data removed]",
      "text/plain": [
       "<Figure size 432x288 with 1 Axes>"
      ]
     },
     "metadata": {},
     "output_type": "display_data"
    }
   ],
   "source": [
    "import networkx as nx\n",
    "A=nx.Graph()          \n",
    "A.add_nodes_from([\"a\",\"b\",\"c\",\"d\"])    \n",
    "A.add_edges_from([(\"a\",\"b\"),(\"a\",\"c\"),(\"b\",\"c\"),(\"c\",\"d\")])      \n",
    "nx.draw(A,with_labels=True,node_color='red',node_size=2000,font_size=30,font_color='black')"
   ]
  },
  {
   "cell_type": "code",
   "execution_count": 2,
   "id": "e7bf5242",
   "metadata": {},
   "outputs": [
    {
     "data": {
      "text/plain": [
       "NodeView(('a', 'b', 'c', 'd'))"
      ]
     },
     "execution_count": 2,
     "metadata": {},
     "output_type": "execute_result"
    }
   ],
   "source": [
    "A.nodes()     "
   ]
  },
  {
   "cell_type": "code",
   "execution_count": 3,
   "id": "003c8766",
   "metadata": {},
   "outputs": [
    {
     "name": "stdout",
     "output_type": "stream",
     "text": [
      "a\n",
      "b\n",
      "c\n",
      "d\n"
     ]
    }
   ],
   "source": [
    "for i in A.nodes():\n",
    "    print(i)"
   ]
  },
  {
   "cell_type": "code",
   "execution_count": 4,
   "id": "89439fab",
   "metadata": {},
   "outputs": [
    {
     "data": {
      "text/plain": [
       "EdgeView([('a', 'b'), ('a', 'c'), ('b', 'c'), ('c', 'd')])"
      ]
     },
     "execution_count": 4,
     "metadata": {},
     "output_type": "execute_result"
    }
   ],
   "source": [
    "A.edges() "
   ]
  },
  {
   "cell_type": "code",
   "execution_count": 6,
   "id": "a03ddc98",
   "metadata": {},
   "outputs": [
    {
     "name": "stdout",
     "output_type": "stream",
     "text": [
      "('a', 'b')\n",
      "('a', 'c')\n",
      "('b', 'c')\n",
      "('c', 'd')\n"
     ]
    }
   ],
   "source": [
    "for X in A.edges():\n",
    "    print(X)"
   ]
  },
  {
   "cell_type": "code",
   "execution_count": 7,
   "id": "8eb1a5fe",
   "metadata": {},
   "outputs": [
    {
     "data": {
      "text/plain": [
       "<dict_keyiterator at 0x2701901bea0>"
      ]
     },
     "execution_count": 7,
     "metadata": {},
     "output_type": "execute_result"
    }
   ],
   "source": [
    "A.neighbors(\"b\")"
   ]
  },
  {
   "cell_type": "code",
   "execution_count": 8,
   "id": "c72a87ad",
   "metadata": {},
   "outputs": [
    {
     "name": "stdout",
     "output_type": "stream",
     "text": [
      "a\n",
      "c\n"
     ]
    }
   ],
   "source": [
    "for x in A.neighbors(\"b\"):\n",
    "   print(x)"
   ]
  },
  {
   "cell_type": "code",
   "execution_count": 9,
   "id": "3ee4cf3a",
   "metadata": {},
   "outputs": [
    {
     "data": {
      "text/plain": [
       "['a', 'c']"
      ]
     },
     "execution_count": 9,
     "metadata": {},
     "output_type": "execute_result"
    }
   ],
   "source": [
    "list(A.neighbors(\"b\"))"
   ]
  },
  {
   "cell_type": "code",
   "execution_count": 10,
   "id": "e3898ba0",
   "metadata": {},
   "outputs": [
    {
     "data": {
      "text/plain": [
       "True"
      ]
     },
     "execution_count": 10,
     "metadata": {},
     "output_type": "execute_result"
    }
   ],
   "source": [
    "A.has_node(\"a\") "
   ]
  },
  {
   "cell_type": "code",
   "execution_count": 11,
   "id": "ec5cf64a",
   "metadata": {},
   "outputs": [
    {
     "data": {
      "text/plain": [
       "True"
      ]
     },
     "execution_count": 11,
     "metadata": {},
     "output_type": "execute_result"
    }
   ],
   "source": [
    "A.has_edge(\"c\",\"d\")"
   ]
  },
  {
   "cell_type": "code",
   "execution_count": 12,
   "id": "9a101838",
   "metadata": {},
   "outputs": [
    {
     "data": {
      "text/plain": [
       "True"
      ]
     },
     "execution_count": 12,
     "metadata": {},
     "output_type": "execute_result"
    }
   ],
   "source": [
    "\"a\" in A.nodes()"
   ]
  },
  {
   "cell_type": "code",
   "execution_count": 13,
   "id": "70d37fdf",
   "metadata": {},
   "outputs": [
    {
     "data": {
      "text/plain": [
       "True"
      ]
     },
     "execution_count": 13,
     "metadata": {},
     "output_type": "execute_result"
    }
   ],
   "source": [
    "(\"c\",\"d\") in A.edges() "
   ]
  },
  {
   "cell_type": "code",
   "execution_count": 14,
   "id": "35e435e9",
   "metadata": {},
   "outputs": [
    {
     "data": {
      "text/plain": [
       "4"
      ]
     },
     "execution_count": 14,
     "metadata": {},
     "output_type": "execute_result"
    }
   ],
   "source": [
    "A.number_of_nodes()"
   ]
  },
  {
   "cell_type": "code",
   "execution_count": 15,
   "id": "fcecbaf3",
   "metadata": {},
   "outputs": [
    {
     "data": {
      "text/plain": [
       "4"
      ]
     },
     "execution_count": 15,
     "metadata": {},
     "output_type": "execute_result"
    }
   ],
   "source": [
    "A.number_of_edges()"
   ]
  },
  {
   "cell_type": "code",
   "execution_count": 16,
   "id": "3987c596",
   "metadata": {},
   "outputs": [
    {
     "data": {
      "text/plain": [
       "False"
      ]
     },
     "execution_count": 16,
     "metadata": {},
     "output_type": "execute_result"
    }
   ],
   "source": [
    "nx.is_tree(A)"
   ]
  },
  {
   "cell_type": "code",
   "execution_count": 17,
   "id": "5b1527fb",
   "metadata": {},
   "outputs": [
    {
     "data": {
      "text/plain": [
       "True"
      ]
     },
     "execution_count": 17,
     "metadata": {},
     "output_type": "execute_result"
    }
   ],
   "source": [
    "nx.is_connected(A)"
   ]
  },
  {
   "cell_type": "code",
   "execution_count": 18,
   "id": "4b578aa8",
   "metadata": {},
   "outputs": [
    {
     "data": {
      "text/plain": [
       "3"
      ]
     },
     "execution_count": 18,
     "metadata": {},
     "output_type": "execute_result"
    }
   ],
   "source": [
    "A.degree('c')"
   ]
  },
  {
   "cell_type": "code",
   "execution_count": 19,
   "id": "ae35c68d",
   "metadata": {},
   "outputs": [
    {
     "data": {
      "image/png": "[encoded data removed]",
      "text/plain": [
       "<Figure size 432x288 with 1 Axes>"
      ]
     },
     "metadata": {},
     "output_type": "display_data"
    }
   ],
   "source": [
    "G2 = nx.DiGraph()\n",
    "G2.add_nodes_from([1,2,3,4])\n",
    "G2.add_edges_from([(1,2),(2,3),(1,3),(3,4),(1,4)])\n",
    "nx.draw(G2,with_labels=True,node_color = 'red',node_size = 1700,font_size = 35,font_color = 'white')"
   ]
  },
  {
   "cell_type": "code",
   "execution_count": 5,
   "id": "1b91ad98",
   "metadata": {},
   "outputs": [
    {
     "data": {
      "image/png": "[encoded data removed]",
      "text/plain": [
       "<Figure size 432x288 with 1 Axes>"
      ]
     },
     "metadata": {},
     "output_type": "display_data"
    }
   ],
   "source": [
    "b = nx.DiGraph()\n",
    "b.add_edges_from([('1','2'), ('2','3'), ('1','4'), ('3','4')])\n",
    "nx.draw(b,with_labels=True,node_color='gray',node_size=2900,font_size=30,font_color='black')"
   ]
  },
  {
   "cell_type": "code",
   "execution_count": 7,
   "id": "ef1b4a61",
   "metadata": {},
   "outputs": [
    {
     "data": {
      "image/png": "[encoded data removed]",
      "text/plain": [
       "<Figure size 432x288 with 1 Axes>"
      ]
     },
     "metadata": {},
     "output_type": "display_data"
    }
   ],
   "source": [
    "c = nx.Graph()\n",
    "c.add_edges_from([(1,2),(2,3),(1,3),(3,4)])\n",
    "nx.draw(c,with_labels=True,node_size=1000)"
   ]
  },
  {
   "cell_type": "code",
   "execution_count": 8,
   "id": "6897877f",
   "metadata": {},
   "outputs": [
    {
     "data": {
      "text/plain": [
       "{1: 2, 2: 2, 3: 3, 4: 1}"
      ]
     },
     "execution_count": 8,
     "metadata": {},
     "output_type": "execute_result"
    }
   ],
   "source": [
    "dict(c.degree())"
   ]
  },
  {
   "cell_type": "code",
   "execution_count": 9,
   "id": "eee9d6ed",
   "metadata": {},
   "outputs": [
    {
     "data": {
      "text/plain": [
       "matrix([[0., 1., 1., 0.],\n",
       "        [1., 0., 1., 0.],\n",
       "        [1., 1., 0., 1.],\n",
       "        [0., 0., 1., 0.]])"
      ]
     },
     "execution_count": 9,
     "metadata": {},
     "output_type": "execute_result"
    }
   ],
   "source": [
    "nx.to_numpy_matrix(c)"
   ]
  }
 ],
 "metadata": {
  "kernelspec": {
   "display_name": "Python 3 (ipykernel)",
   "language": "python",
   "name": "python3"
  },
  "language_info": {
   "codemirror_mode": {
    "name": "ipython",
    "version": 3
   },
   "file_extension": ".py",
   "mimetype": "text/x-python",
   "name": "python",
   "nbconvert_exporter": "python",
   "pygments_lexer": "ipython3",
   "version": "3.9.7"
  }
 },
 "nbformat": 4,
 "nbformat_minor": 5
}
